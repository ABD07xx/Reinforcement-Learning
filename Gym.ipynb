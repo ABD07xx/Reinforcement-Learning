{
 "cells": [
  {
   "cell_type": "markdown",
   "metadata": {},
   "source": [
    "#### Some Important libraries"
   ]
  },
  {
   "cell_type": "markdown",
   "metadata": {},
   "source": [
    "* !pip install gym\n",
    "* !pip install Box2D\n",
    "* !pip install pygame"
   ]
  },
  {
   "cell_type": "code",
   "execution_count": 13,
   "metadata": {},
   "outputs": [],
   "source": [
    "import gym\n",
    "import pandas as pd"
   ]
  },
  {
   "cell_type": "code",
   "execution_count": 14,
   "metadata": {},
   "outputs": [],
   "source": [
    "import gym\n",
    "# Create the environment and render the env to the screen\n",
    "env = gym.make(\"LunarLander-v2\", render_mode=\"human\")\n",
    "#Actions space \n",
    "env.action_space.seed(42)\n",
    "#observation space\n",
    "observation, info = env.reset(seed=42)\n",
    "\n",
    "data=[]\n",
    "# Run the environment for 1000 timesteps\n",
    "for i in range(1000):\n",
    "#taking a step in the environment\n",
    "    observation, reward, terminated, truncated, info = env.step(env.action_space.sample())\n",
    "    data.append([observation,reward,terminated,truncated])\n",
    "  # If the environment has entered a terminal state, reset it\n",
    "    if terminated or truncated:\n",
    "        observation, info = env.reset()\n",
    "#Close the Environment\n",
    "env.close()\n"
   ]
  },
  {
   "cell_type": "code",
   "execution_count": 15,
   "metadata": {},
   "outputs": [],
   "source": [
    "df = pd.DataFrame(data,columns=['observation','reward','terminated','truncated'])"
   ]
  },
  {
   "cell_type": "code",
   "execution_count": 16,
   "metadata": {
    "scrolled": true
   },
   "outputs": [
    {
     "data": {
      "text/plain": [
       "count    1000.000000\n",
       "mean       -2.338304\n",
       "std        11.105863\n",
       "min      -100.000000\n",
       "25%        -2.526453\n",
       "50%        -1.448880\n",
       "75%        -0.196379\n",
       "max       113.706671\n",
       "Name: reward, dtype: float64"
      ]
     },
     "execution_count": 16,
     "metadata": {},
     "output_type": "execute_result"
    }
   ],
   "source": [
    "df['reward'].describe()"
   ]
  },
  {
   "cell_type": "code",
   "execution_count": 17,
   "metadata": {},
   "outputs": [],
   "source": [
    "df = pd.DataFrame(data,columns=['observation','reward','terminated','truncated'])"
   ]
  },
  {
   "cell_type": "markdown",
   "metadata": {},
   "source": [
    "### Dataframe for 1000 timesteps"
   ]
  },
  {
   "cell_type": "code",
   "execution_count": 18,
   "metadata": {
    "scrolled": true
   },
   "outputs": [
    {
     "data": {
      "text/html": [
       "<div>\n",
       "<style scoped>\n",
       "    .dataframe tbody tr th:only-of-type {\n",
       "        vertical-align: middle;\n",
       "    }\n",
       "\n",
       "    .dataframe tbody tr th {\n",
       "        vertical-align: top;\n",
       "    }\n",
       "\n",
       "    .dataframe thead th {\n",
       "        text-align: right;\n",
       "    }\n",
       "</style>\n",
       "<table border=\"1\" class=\"dataframe\">\n",
       "  <thead>\n",
       "    <tr style=\"text-align: right;\">\n",
       "      <th></th>\n",
       "      <th>observation</th>\n",
       "      <th>reward</th>\n",
       "      <th>terminated</th>\n",
       "      <th>truncated</th>\n",
       "    </tr>\n",
       "  </thead>\n",
       "  <tbody>\n",
       "    <tr>\n",
       "      <th>0</th>\n",
       "      <td>[0.0045939446, 1.424763, 0.23233262, 0.2947628...</td>\n",
       "      <td>1.144980</td>\n",
       "      <td>False</td>\n",
       "      <td>False</td>\n",
       "    </tr>\n",
       "    <tr>\n",
       "      <th>1</th>\n",
       "      <td>[0.006974888, 1.4308035, 0.2428536, 0.26844853...</td>\n",
       "      <td>0.225970</td>\n",
       "      <td>False</td>\n",
       "      <td>False</td>\n",
       "    </tr>\n",
       "    <tr>\n",
       "      <th>2</th>\n",
       "      <td>[0.009311581, 1.4375646, 0.23868391, 0.3004459...</td>\n",
       "      <td>-3.645544</td>\n",
       "      <td>False</td>\n",
       "      <td>False</td>\n",
       "    </tr>\n",
       "    <tr>\n",
       "      <th>3</th>\n",
       "      <td>[0.011585331, 1.4437385, 0.2307829, 0.2743505,...</td>\n",
       "      <td>1.534388</td>\n",
       "      <td>False</td>\n",
       "      <td>False</td>\n",
       "    </tr>\n",
       "    <tr>\n",
       "      <th>4</th>\n",
       "      <td>[0.013768482, 1.4493215, 0.21942608, 0.2481250...</td>\n",
       "      <td>2.028554</td>\n",
       "      <td>False</td>\n",
       "      <td>False</td>\n",
       "    </tr>\n",
       "    <tr>\n",
       "      <th>...</th>\n",
       "      <td>...</td>\n",
       "      <td>...</td>\n",
       "      <td>...</td>\n",
       "      <td>...</td>\n",
       "    </tr>\n",
       "    <tr>\n",
       "      <th>995</th>\n",
       "      <td>[-0.11999693, 0.82839507, -0.59173566, -0.7096...</td>\n",
       "      <td>-3.333364</td>\n",
       "      <td>False</td>\n",
       "      <td>False</td>\n",
       "    </tr>\n",
       "    <tr>\n",
       "      <th>996</th>\n",
       "      <td>[-0.12609987, 0.81273264, -0.6290123, -0.70690...</td>\n",
       "      <td>-3.509181</td>\n",
       "      <td>False</td>\n",
       "      <td>False</td>\n",
       "    </tr>\n",
       "    <tr>\n",
       "      <th>997</th>\n",
       "      <td>[-0.13227025, 0.7963892, -0.6372193, -0.738624...</td>\n",
       "      <td>-4.134976</td>\n",
       "      <td>False</td>\n",
       "      <td>False</td>\n",
       "    </tr>\n",
       "    <tr>\n",
       "      <th>998</th>\n",
       "      <td>[-0.13839856, 0.7795179, -0.6311633, -0.761580...</td>\n",
       "      <td>-2.342367</td>\n",
       "      <td>False</td>\n",
       "      <td>False</td>\n",
       "    </tr>\n",
       "    <tr>\n",
       "      <th>999</th>\n",
       "      <td>[-0.14493208, 0.76271355, -0.6713234, -0.75895...</td>\n",
       "      <td>-3.698999</td>\n",
       "      <td>False</td>\n",
       "      <td>False</td>\n",
       "    </tr>\n",
       "  </tbody>\n",
       "</table>\n",
       "<p>1000 rows × 4 columns</p>\n",
       "</div>"
      ],
      "text/plain": [
       "                                           observation    reward  terminated  \\\n",
       "0    [0.0045939446, 1.424763, 0.23233262, 0.2947628...  1.144980       False   \n",
       "1    [0.006974888, 1.4308035, 0.2428536, 0.26844853...  0.225970       False   \n",
       "2    [0.009311581, 1.4375646, 0.23868391, 0.3004459... -3.645544       False   \n",
       "3    [0.011585331, 1.4437385, 0.2307829, 0.2743505,...  1.534388       False   \n",
       "4    [0.013768482, 1.4493215, 0.21942608, 0.2481250...  2.028554       False   \n",
       "..                                                 ...       ...         ...   \n",
       "995  [-0.11999693, 0.82839507, -0.59173566, -0.7096... -3.333364       False   \n",
       "996  [-0.12609987, 0.81273264, -0.6290123, -0.70690... -3.509181       False   \n",
       "997  [-0.13227025, 0.7963892, -0.6372193, -0.738624... -4.134976       False   \n",
       "998  [-0.13839856, 0.7795179, -0.6311633, -0.761580... -2.342367       False   \n",
       "999  [-0.14493208, 0.76271355, -0.6713234, -0.75895... -3.698999       False   \n",
       "\n",
       "     truncated  \n",
       "0        False  \n",
       "1        False  \n",
       "2        False  \n",
       "3        False  \n",
       "4        False  \n",
       "..         ...  \n",
       "995      False  \n",
       "996      False  \n",
       "997      False  \n",
       "998      False  \n",
       "999      False  \n",
       "\n",
       "[1000 rows x 4 columns]"
      ]
     },
     "execution_count": 18,
     "metadata": {},
     "output_type": "execute_result"
    }
   ],
   "source": [
    "df"
   ]
  },
  {
   "cell_type": "code",
   "execution_count": 19,
   "metadata": {},
   "outputs": [
    {
     "data": {
      "text/html": [
       "<div>\n",
       "<style scoped>\n",
       "    .dataframe tbody tr th:only-of-type {\n",
       "        vertical-align: middle;\n",
       "    }\n",
       "\n",
       "    .dataframe tbody tr th {\n",
       "        vertical-align: top;\n",
       "    }\n",
       "\n",
       "    .dataframe thead th {\n",
       "        text-align: right;\n",
       "    }\n",
       "</style>\n",
       "<table border=\"1\" class=\"dataframe\">\n",
       "  <thead>\n",
       "    <tr style=\"text-align: right;\">\n",
       "      <th></th>\n",
       "      <th>reward</th>\n",
       "    </tr>\n",
       "  </thead>\n",
       "  <tbody>\n",
       "    <tr>\n",
       "      <th>count</th>\n",
       "      <td>1000.000000</td>\n",
       "    </tr>\n",
       "    <tr>\n",
       "      <th>mean</th>\n",
       "      <td>-2.338304</td>\n",
       "    </tr>\n",
       "    <tr>\n",
       "      <th>std</th>\n",
       "      <td>11.105863</td>\n",
       "    </tr>\n",
       "    <tr>\n",
       "      <th>min</th>\n",
       "      <td>-100.000000</td>\n",
       "    </tr>\n",
       "    <tr>\n",
       "      <th>25%</th>\n",
       "      <td>-2.526453</td>\n",
       "    </tr>\n",
       "    <tr>\n",
       "      <th>50%</th>\n",
       "      <td>-1.448880</td>\n",
       "    </tr>\n",
       "    <tr>\n",
       "      <th>75%</th>\n",
       "      <td>-0.196379</td>\n",
       "    </tr>\n",
       "    <tr>\n",
       "      <th>max</th>\n",
       "      <td>113.706671</td>\n",
       "    </tr>\n",
       "  </tbody>\n",
       "</table>\n",
       "</div>"
      ],
      "text/plain": [
       "            reward\n",
       "count  1000.000000\n",
       "mean     -2.338304\n",
       "std      11.105863\n",
       "min    -100.000000\n",
       "25%      -2.526453\n",
       "50%      -1.448880\n",
       "75%      -0.196379\n",
       "max     113.706671"
      ]
     },
     "execution_count": 19,
     "metadata": {},
     "output_type": "execute_result"
    }
   ],
   "source": [
    "df.describe()"
   ]
  },
  {
   "cell_type": "markdown",
   "metadata": {},
   "source": [
    "### Timesteps which resulted in termination"
   ]
  },
  {
   "cell_type": "code",
   "execution_count": 20,
   "metadata": {},
   "outputs": [
    {
     "data": {
      "text/html": [
       "<div>\n",
       "<style scoped>\n",
       "    .dataframe tbody tr th:only-of-type {\n",
       "        vertical-align: middle;\n",
       "    }\n",
       "\n",
       "    .dataframe tbody tr th {\n",
       "        vertical-align: top;\n",
       "    }\n",
       "\n",
       "    .dataframe thead th {\n",
       "        text-align: right;\n",
       "    }\n",
       "</style>\n",
       "<table border=\"1\" class=\"dataframe\">\n",
       "  <thead>\n",
       "    <tr style=\"text-align: right;\">\n",
       "      <th></th>\n",
       "      <th>observation</th>\n",
       "      <th>reward</th>\n",
       "      <th>terminated</th>\n",
       "      <th>truncated</th>\n",
       "    </tr>\n",
       "  </thead>\n",
       "  <tbody>\n",
       "    <tr>\n",
       "      <th>122</th>\n",
       "      <td>[0.6741131, -0.14698955, 1.5591494, -0.0258534...</td>\n",
       "      <td>-100.0</td>\n",
       "      <td>True</td>\n",
       "      <td>False</td>\n",
       "    </tr>\n",
       "    <tr>\n",
       "      <th>213</th>\n",
       "      <td>[0.33096856, -0.11887117, 0.81619185, -1.01752...</td>\n",
       "      <td>-100.0</td>\n",
       "      <td>True</td>\n",
       "      <td>False</td>\n",
       "    </tr>\n",
       "    <tr>\n",
       "      <th>281</th>\n",
       "      <td>[-0.5595145, 0.053320106, -1.4575338, -0.60312...</td>\n",
       "      <td>-100.0</td>\n",
       "      <td>True</td>\n",
       "      <td>False</td>\n",
       "    </tr>\n",
       "    <tr>\n",
       "      <th>381</th>\n",
       "      <td>[0.67087936, 0.11506391, -0.31393474, -0.29407...</td>\n",
       "      <td>-100.0</td>\n",
       "      <td>True</td>\n",
       "      <td>False</td>\n",
       "    </tr>\n",
       "    <tr>\n",
       "      <th>483</th>\n",
       "      <td>[-0.9081073, 0.023206912, -1.1338278, -0.82372...</td>\n",
       "      <td>-100.0</td>\n",
       "      <td>True</td>\n",
       "      <td>False</td>\n",
       "    </tr>\n",
       "    <tr>\n",
       "      <th>579</th>\n",
       "      <td>[0.9603367, 0.013146267, 1.7754453, -0.1623157...</td>\n",
       "      <td>-100.0</td>\n",
       "      <td>True</td>\n",
       "      <td>False</td>\n",
       "    </tr>\n",
       "    <tr>\n",
       "      <th>664</th>\n",
       "      <td>[0.19320507, -0.0066842344, 0.20131913, -0.321...</td>\n",
       "      <td>-100.0</td>\n",
       "      <td>True</td>\n",
       "      <td>False</td>\n",
       "    </tr>\n",
       "    <tr>\n",
       "      <th>745</th>\n",
       "      <td>[-0.006736183, 0.016088758, 0.6856531, 0.08419...</td>\n",
       "      <td>-100.0</td>\n",
       "      <td>True</td>\n",
       "      <td>False</td>\n",
       "    </tr>\n",
       "    <tr>\n",
       "      <th>848</th>\n",
       "      <td>[0.27103195, -0.075497806, 0.97763765, -0.2183...</td>\n",
       "      <td>-100.0</td>\n",
       "      <td>True</td>\n",
       "      <td>False</td>\n",
       "    </tr>\n",
       "    <tr>\n",
       "      <th>936</th>\n",
       "      <td>[1.0012058, 0.8628556, 2.058451, -1.1792816, -...</td>\n",
       "      <td>-100.0</td>\n",
       "      <td>True</td>\n",
       "      <td>False</td>\n",
       "    </tr>\n",
       "  </tbody>\n",
       "</table>\n",
       "</div>"
      ],
      "text/plain": [
       "                                           observation  reward  terminated  \\\n",
       "122  [0.6741131, -0.14698955, 1.5591494, -0.0258534...  -100.0        True   \n",
       "213  [0.33096856, -0.11887117, 0.81619185, -1.01752...  -100.0        True   \n",
       "281  [-0.5595145, 0.053320106, -1.4575338, -0.60312...  -100.0        True   \n",
       "381  [0.67087936, 0.11506391, -0.31393474, -0.29407...  -100.0        True   \n",
       "483  [-0.9081073, 0.023206912, -1.1338278, -0.82372...  -100.0        True   \n",
       "579  [0.9603367, 0.013146267, 1.7754453, -0.1623157...  -100.0        True   \n",
       "664  [0.19320507, -0.0066842344, 0.20131913, -0.321...  -100.0        True   \n",
       "745  [-0.006736183, 0.016088758, 0.6856531, 0.08419...  -100.0        True   \n",
       "848  [0.27103195, -0.075497806, 0.97763765, -0.2183...  -100.0        True   \n",
       "936  [1.0012058, 0.8628556, 2.058451, -1.1792816, -...  -100.0        True   \n",
       "\n",
       "     truncated  \n",
       "122      False  \n",
       "213      False  \n",
       "281      False  \n",
       "381      False  \n",
       "483      False  \n",
       "579      False  \n",
       "664      False  \n",
       "745      False  \n",
       "848      False  \n",
       "936      False  "
      ]
     },
     "execution_count": 20,
     "metadata": {},
     "output_type": "execute_result"
    }
   ],
   "source": [
    "df[df['terminated'] == True]"
   ]
  },
  {
   "cell_type": "code",
   "execution_count": 21,
   "metadata": {},
   "outputs": [
    {
     "data": {
      "text/plain": [
       "array([ 1.0012058,  0.8628556,  2.058451 , -1.1792816, -1.7168295,\n",
       "       -0.2947206,  0.       ,  0.       ], dtype=float32)"
      ]
     },
     "execution_count": 21,
     "metadata": {},
     "output_type": "execute_result"
    }
   ],
   "source": [
    "df['observation'][936]"
   ]
  },
  {
   "cell_type": "markdown",
   "metadata": {},
   "source": [
    "### Graph for Reward"
   ]
  },
  {
   "cell_type": "code",
   "execution_count": 22,
   "metadata": {},
   "outputs": [],
   "source": [
    "import seaborn as sns\n",
    "import matplotlib.pyplot as plt"
   ]
  },
  {
   "cell_type": "code",
   "execution_count": 23,
   "metadata": {},
   "outputs": [
    {
     "data": {
      "text/plain": [
       "<AxesSubplot:xlabel='reward', ylabel='Count'>"
      ]
     },
     "execution_count": 23,
     "metadata": {},
     "output_type": "execute_result"
    },
    {
     "data": {
      "image/png": "[encoded data removed]",
      "text/plain": [
       "<Figure size 1080x1080 with 1 Axes>"
      ]
     },
     "metadata": {
      "needs_background": "light"
     },
     "output_type": "display_data"
    }
   ],
   "source": [
    "plt.figure(figsize=(15,15))\n",
    "sns.histplot(df['reward'],kde=True)"
   ]
  },
  {
   "cell_type": "code",
   "execution_count": null,
   "metadata": {},
   "outputs": [],
   "source": []
  }
 ],
 "metadata": {
  "kernelspec": {
   "display_name": "Python 3",
   "language": "python",
   "name": "python3"
  },
  "language_info": {
   "codemirror_mode": {
    "name": "ipython",
    "version": 3
   },
   "file_extension": ".py",
   "mimetype": "text/x-python",
   "name": "python",
   "nbconvert_exporter": "python",
   "pygments_lexer": "ipython3",
   "version": "3.8.5"
  }
 },
 "nbformat": 4,
 "nbformat_minor": 4
}
