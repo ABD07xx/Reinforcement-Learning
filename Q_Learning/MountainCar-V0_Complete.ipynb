{
 "cells": [
  {
   "cell_type": "code",
   "execution_count": 1,
   "metadata": {},
   "outputs": [],
   "source": [
    "import gym\n",
    "import numpy as np"
   ]
  },
  {
   "cell_type": "code",
   "execution_count": 2,
   "metadata": {},
   "outputs": [],
   "source": [
    "env = gym.make('MountainCar-v0')\n",
    "env.reset()\n",
    "\n",
    "observation_space_size = [20] * len(env.observation_space.high)\n",
    "observation_space_window_size = (env.observation_space.high - env.observation_space.low) / observation_space_size\n",
    "Q_Table = np.random.uniform(low=-2,high=0,size =(observation_space_size + [env.action_space.n]))"
   ]
  },
  {
   "cell_type": "markdown",
   "metadata": {},
   "source": [
    "### Lets define our Learning Rate and discount"
   ]
  },
  {
   "cell_type": "code",
   "execution_count": 10,
   "metadata": {},
   "outputs": [],
   "source": [
    "#Learning Rate here = alpha\n",
    "alpha = 0.1\n",
    "#discount is basically like weight which tells us how much important are the future actions/ new rewards vs old reward\n",
    "discount = 0.95\n",
    "episodes = 800"
   ]
  },
  {
   "cell_type": "markdown",
   "metadata": {},
   "source": [
    "### Function to convert Continuous states to discrete states"
   ]
  },
  {
   "cell_type": "code",
   "execution_count": 4,
   "metadata": {},
   "outputs": [],
   "source": [
    "def disc_states(state):\n",
    "    discrete_state = (state - env.observation_space.low)/observation_space_window_size\n",
    "    return tuple(discrete_state.astype(int))"
   ]
  },
  {
   "cell_type": "code",
   "execution_count": 5,
   "metadata": {},
   "outputs": [
    {
     "name": "stdout",
     "output_type": "stream",
     "text": [
      "(7, 10)\n"
     ]
    }
   ],
   "source": [
    "discrete_state = disc_states(env.reset())\n",
    "print(discrete_state)"
   ]
  },
  {
   "cell_type": "code",
   "execution_count": 6,
   "metadata": {},
   "outputs": [
    {
     "data": {
      "text/plain": [
       "array([-0.06110074, -1.49670029, -1.61792131])"
      ]
     },
     "execution_count": 6,
     "metadata": {},
     "output_type": "execute_result"
    }
   ],
   "source": [
    "Q_Table[discrete_state]"
   ]
  },
  {
   "cell_type": "markdown",
   "metadata": {},
   "source": [
    "#### How the algo works is that it takes the max value from the array"
   ]
  },
  {
   "cell_type": "code",
   "execution_count": 7,
   "metadata": {},
   "outputs": [
    {
     "data": {
      "text/plain": [
       "0"
      ]
     },
     "execution_count": 7,
     "metadata": {},
     "output_type": "execute_result"
    }
   ],
   "source": [
    "action_test = np.argmax(Q_Table[discrete_state])\n",
    "action_test"
   ]
  },
  {
   "cell_type": "markdown",
   "metadata": {},
   "source": [
    "* Means we should go with action 2"
   ]
  },
  {
   "cell_type": "markdown",
   "metadata": {},
   "source": [
    "#### Current Q_Val"
   ]
  },
  {
   "cell_type": "code",
   "execution_count": 8,
   "metadata": {},
   "outputs": [
    {
     "data": {
      "text/plain": [
       "-0.06110073606907984"
      ]
     },
     "execution_count": 8,
     "metadata": {},
     "output_type": "execute_result"
    }
   ],
   "source": [
    "current_q_val    = Q_Table[discrete_state + (action_test, )]\n",
    "current_q_val"
   ]
  },
  {
   "cell_type": "markdown",
   "metadata": {},
   "source": [
    "#### Max_Q_Value"
   ]
  },
  {
   "cell_type": "markdown",
   "metadata": {},
   "source": [
    "1. Maximum possible Q value in next step (for new state)\n",
    "2. Code Won't run as new_discrete state is undefined to find this state we first need the new_state found after rendering the environment\n",
    "#### max_future_q_val_test = np.max(Q_Table[new_discrete_state])"
   ]
  },
  {
   "cell_type": "markdown",
   "metadata": {},
   "source": [
    "## Combining and using it to create our Q-Function"
   ]
  },
  {
   "attachments": {
    "QLearning%20=n.jpg": {
     "image/jpeg": "[encoded data removed]"
    }
   },
   "cell_type": "markdown",
   "metadata": {},
   "source": [
    "![QLearning%20=n.jpg](attachment:QLearning%20=n.jpg)"
   ]
  },
  {
   "cell_type": "code",
   "execution_count": 11,
   "metadata": {
    "scrolled": true
   },
   "outputs": [
    {
     "name": "stdout",
     "output_type": "stream",
     "text": [
      "0\n",
      "Goal state reached: 84\n",
      "Goal state reached: 91\n",
      "Goal state reached: 93\n",
      "Goal state reached: 99\n",
      "Goal state reached: 103\n",
      "Goal state reached: 112\n",
      "Goal state reached: 170\n",
      "Goal state reached: 177\n",
      "Goal state reached: 184\n",
      "200\n",
      "Goal state reached: 203\n",
      "Goal state reached: 204\n",
      "Goal state reached: 205\n",
      "Goal state reached: 206\n",
      "Goal state reached: 209\n",
      "Goal state reached: 211\n",
      "Goal state reached: 213\n",
      "Goal state reached: 214\n",
      "Goal state reached: 217\n",
      "Goal state reached: 218\n",
      "Goal state reached: 219\n",
      "Goal state reached: 354\n",
      "Goal state reached: 356\n",
      "Goal state reached: 379\n",
      "Goal state reached: 380\n",
      "Goal state reached: 384\n",
      "Goal state reached: 385\n",
      "Goal state reached: 386\n",
      "Goal state reached: 387\n",
      "Goal state reached: 388\n",
      "Goal state reached: 391\n",
      "Goal state reached: 392\n",
      "Goal state reached: 393\n",
      "Goal state reached: 394\n",
      "Goal state reached: 395\n",
      "Goal state reached: 396\n",
      "Goal state reached: 397\n",
      "Goal state reached: 398\n",
      "Goal state reached: 399\n",
      "400\n",
      "Goal state reached: 406\n",
      "Goal state reached: 407\n",
      "Goal state reached: 408\n",
      "Goal state reached: 412\n",
      "Goal state reached: 417\n",
      "Goal state reached: 418\n",
      "Goal state reached: 423\n",
      "Goal state reached: 431\n",
      "Goal state reached: 432\n",
      "Goal state reached: 433\n",
      "Goal state reached: 444\n",
      "Goal state reached: 450\n",
      "Goal state reached: 451\n",
      "Goal state reached: 488\n",
      "Goal state reached: 492\n",
      "Goal state reached: 505\n",
      "Goal state reached: 545\n",
      "Goal state reached: 546\n",
      "Goal state reached: 550\n",
      "Goal state reached: 571\n",
      "Goal state reached: 573\n",
      "Goal state reached: 574\n",
      "Goal state reached: 576\n",
      "Goal state reached: 577\n",
      "Goal state reached: 578\n",
      "Goal state reached: 579\n",
      "Goal state reached: 581\n",
      "Goal state reached: 585\n",
      "Goal state reached: 586\n",
      "Goal state reached: 588\n",
      "Goal state reached: 590\n",
      "Goal state reached: 591\n",
      "Goal state reached: 593\n",
      "Goal state reached: 595\n",
      "Goal state reached: 597\n",
      "Goal state reached: 598\n",
      "Goal state reached: 599\n",
      "600\n",
      "Goal state reached: 600\n",
      "Goal state reached: 601\n",
      "Goal state reached: 603\n",
      "Goal state reached: 604\n",
      "Goal state reached: 605\n",
      "Goal state reached: 606\n",
      "Goal state reached: 607\n",
      "Goal state reached: 608\n",
      "Goal state reached: 609\n",
      "Goal state reached: 610\n",
      "Goal state reached: 611\n",
      "Goal state reached: 612\n",
      "Goal state reached: 613\n",
      "Goal state reached: 614\n",
      "Goal state reached: 615\n",
      "Goal state reached: 618\n",
      "Goal state reached: 620\n",
      "Goal state reached: 622\n",
      "Goal state reached: 623\n",
      "Goal state reached: 626\n",
      "Goal state reached: 628\n",
      "Goal state reached: 643\n",
      "Goal state reached: 647\n",
      "Goal state reached: 648\n",
      "Goal state reached: 651\n",
      "Goal state reached: 653\n",
      "Goal state reached: 654\n",
      "Goal state reached: 655\n",
      "Goal state reached: 656\n",
      "Goal state reached: 657\n",
      "Goal state reached: 658\n",
      "Goal state reached: 659\n",
      "Goal state reached: 660\n",
      "Goal state reached: 661\n",
      "Goal state reached: 662\n",
      "Goal state reached: 663\n",
      "Goal state reached: 664\n",
      "Goal state reached: 665\n",
      "Goal state reached: 666\n",
      "Goal state reached: 667\n",
      "Goal state reached: 668\n",
      "Goal state reached: 670\n",
      "Goal state reached: 672\n",
      "Goal state reached: 673\n",
      "Goal state reached: 688\n",
      "Goal state reached: 690\n",
      "Goal state reached: 693\n",
      "Goal state reached: 695\n",
      "Goal state reached: 696\n",
      "Goal state reached: 697\n",
      "Goal state reached: 726\n",
      "Goal state reached: 727\n",
      "Goal state reached: 773\n",
      "Goal state reached: 774\n",
      "Goal state reached: 775\n",
      "Goal state reached: 776\n",
      "Goal state reached: 777\n",
      "Goal state reached: 778\n",
      "Goal state reached: 779\n",
      "Goal state reached: 780\n",
      "Goal state reached: 781\n",
      "Goal state reached: 782\n",
      "Goal state reached: 783\n",
      "Goal state reached: 784\n",
      "Goal state reached: 785\n",
      "Goal state reached: 786\n",
      "Goal state reached: 787\n",
      "Goal state reached: 788\n",
      "Goal state reached: 789\n",
      "Goal state reached: 790\n",
      "Goal state reached: 791\n",
      "Goal state reached: 793\n",
      "Goal state reached: 794\n",
      "Goal state reached: 796\n",
      "Goal state reached: 799\n"
     ]
    }
   ],
   "source": [
    "env = gym.make('MountainCar-v0')\n",
    "env.reset()\n",
    "#is_alive is used just to check if the environment is still working or it has stopped responding can be skipped as well\n",
    "is_alive = 200\n",
    "\n",
    "for episode in range(episodes):\n",
    "    if(episode % is_alive ==0):\n",
    "        print(episode)\n",
    "        render = True\n",
    "    else:\n",
    "        render = False\n",
    "\n",
    "    \n",
    "    discrete_state = disc_states(env.reset())\n",
    "    Q_Table[discrete_state]\n",
    "\n",
    "    done = False\n",
    "    while not done:\n",
    "        #action = max Q-Value \n",
    "        action = np.argmax(Q_Table[discrete_state])  \n",
    "        new_state , reward , done , _ = env.step(action)\n",
    "        #Used for finding new q-values\n",
    "        new_discrete_state = disc_states(new_state)\n",
    "        \n",
    "        if render:\n",
    "            env.render()\n",
    "        \n",
    "        #if the simulation didn't ended after the last step update the Q-Table using the Q-Function\n",
    "        if not done:\n",
    "            \n",
    "            #Finding the max Q_Val (estimate of optimal future value)\n",
    "            max_future_q_val = np.max(Q_Table[new_discrete_state])\n",
    "            \n",
    "            current_q_val    = Q_Table[discrete_state + (action, )]\n",
    "            \n",
    "            #Q-Function\n",
    "            new_q_val = (1-alpha) * current_q_val + alpha * (reward + discount * max_future_q_val)\n",
    "            \n",
    "            #Updating Q_Table\n",
    "            Q_Table[discrete_state+(action, )] = new_q_val\n",
    "        \n",
    "        #If the simulation is ended(goal state reached can be a reason) then update the Q-Table with the reward i.e., 0\n",
    "        elif new_state[0] >= env.goal_position:\n",
    "            \n",
    "            print(f\"Goal state reached: {episode}\")\n",
    "            Q_Table[discrete_state+(action, )] = 0\n",
    "        \n",
    "        discrete_state = new_discrete_state\n",
    "env.close()"
   ]
  },
  {
   "attachments": {
    "FinalCar.jpg": {
     "image/jpeg": "[encoded data removed]"
    }
   },
   "cell_type": "markdown",
   "metadata": {},
   "source": [
    "![FinalCar.jpg](attachment:FinalCar.jpg)"
   ]
  },
  {
   "cell_type": "code",
   "execution_count": null,
   "metadata": {},
   "outputs": [],
   "source": []
  }
 ],
 "metadata": {
  "kernelspec": {
   "display_name": "Python 3",
   "language": "python",
   "name": "python3"
  },
  "language_info": {
   "codemirror_mode": {
    "name": "ipython",
    "version": 3
   },
   "file_extension": ".py",
   "mimetype": "text/x-python",
   "name": "python",
   "nbconvert_exporter": "python",
   "pygments_lexer": "ipython3",
   "version": "3.8.5"
  }
 },
 "nbformat": 4,
 "nbformat_minor": 4
}
