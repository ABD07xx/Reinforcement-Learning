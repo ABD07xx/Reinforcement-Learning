{
 "cells": [
  {
   "cell_type": "markdown",
   "metadata": {},
   "source": [
    "### Importing Libraries"
   ]
  },
  {
   "cell_type": "code",
   "execution_count": 1,
   "metadata": {},
   "outputs": [],
   "source": [
    "import numpy as np\n",
    "from PIL import Image\n",
    "import cv2\n",
    "import matplotlib.pyplot as plt\n",
    "import pickle\n",
    "from matplotlib import style\n",
    "import time\n",
    "\n",
    "style.use(\"ggplot\")"
   ]
  },
  {
   "cell_type": "code",
   "execution_count": 2,
   "metadata": {},
   "outputs": [],
   "source": [
    "SIZE = 20\n",
    "EPISODES = 25000"
   ]
  },
  {
   "cell_type": "markdown",
   "metadata": {},
   "source": [
    "### Hyperparameters for our Model"
   ]
  },
  {
   "cell_type": "code",
   "execution_count": 3,
   "metadata": {},
   "outputs": [],
   "source": [
    "#Can be changed\n",
    "MOVE_PENALTY = 1  \n",
    "ENEMY_PENALTY = 300  \n",
    "FOOD_REWARD = 25  "
   ]
  },
  {
   "cell_type": "markdown",
   "metadata": {},
   "source": [
    "### Epsilon \n"
   ]
  },
  {
   "cell_type": "code",
   "execution_count": 4,
   "metadata": {},
   "outputs": [],
   "source": [
    "epsilon = 0.5 \n",
    "epsilon_decay = 0.9999  \n",
    "SHOW_EVERY = 1000  "
   ]
  },
  {
   "cell_type": "markdown",
   "metadata": {},
   "source": [
    "### Hyperparameters and defining player attributes"
   ]
  },
  {
   "cell_type": "code",
   "execution_count": 5,
   "metadata": {},
   "outputs": [],
   "source": [
    "LEARNING_RATE = 0.1\n",
    "DISCOUNT = 0.95\n",
    "\n",
    "PLAYER = 1  # player key in dict\n",
    "FOOD = 2  # food key in dict\n",
    "ENEMY = 3  # enemy key in dict\n",
    "\n",
    "#dict for giving colours to the objects\n",
    "d = {1: (255, 0, 0),  # blueish color\n",
    "     2: (0, 255, 0),  # green\n",
    "     3: (0, 0, 255)}  # red"
   ]
  },
  {
   "cell_type": "markdown",
   "metadata": {},
   "source": [
    "### Objects"
   ]
  },
  {
   "cell_type": "code",
   "execution_count": 6,
   "metadata": {},
   "outputs": [],
   "source": [
    "class squares:\n",
    "    def __init__(self):\n",
    "        self.x = np.random.randint(0, SIZE)\n",
    "        self.y = np.random.randint(0, SIZE)\n",
    "        \n",
    "    def __str__(self):\n",
    "        return f\"{self.x}, {self.y}\"\n",
    "    \n",
    "    def __sub__(self, other):\n",
    "        return (self.x-other.x, self.y-other.y)"
   ]
  },
  {
   "cell_type": "markdown",
   "metadata": {},
   "source": [
    "### Defining the Action States\n"
   ]
  },
  {
   "cell_type": "code",
   "execution_count": 7,
   "metadata": {},
   "outputs": [],
   "source": [
    "#Four possible actions up down left right or 0 1 2 3\n",
    "def action(self,choice):\n",
    "    if(choice == 0):\n",
    "        self.move(x=1,y=1)\n",
    "    elif choice == 1:\n",
    "        self.move(x=-1, y=-1)\n",
    "    elif choice == 2:\n",
    "        self.move(x=-1, y=1)\n",
    "    elif choice == 3:\n",
    "        self.move(x=1, y=-1)"
   ]
  },
  {
   "cell_type": "markdown",
   "metadata": {},
   "source": [
    "### Defining the Move Function\n",
    "* Here we have 3 things to cover\n",
    "1. If X is not given any value\n",
    "2. If Y isn't given any value\n",
    "3. If both X and Y are out of bounds"
   ]
  },
  {
   "cell_type": "code",
   "execution_count": 8,
   "metadata": {},
   "outputs": [],
   "source": [
    "def move(self, x=False, y=False):\n",
    "\n",
    "# If no value for x, move randomly\n",
    "    if not x:\n",
    "        self.x += np.random.randint(-1, 2)\n",
    "    else:\n",
    "        self.x += x\n",
    "\n",
    "# If no value for y, move randomly\n",
    "    if not y:\n",
    "        self.y += np.random.randint(-1, 2)\n",
    "    else:\n",
    "        self.y += y\n",
    "\n",
    "\n",
    "# If we are out of bounds, fix!\n",
    "    if self.x < 0:\n",
    "        self.x = 0\n",
    "    elif self.x > SIZE-1:\n",
    "        self.x = SIZE-1\n",
    "    if self.y < 0:\n",
    "        self.y = 0\n",
    "    elif self.y > SIZE-1:\n",
    "        self.y = SIZE-1"
   ]
  },
  {
   "cell_type": "markdown",
   "metadata": {},
   "source": [
    "### Testing"
   ]
  },
  {
   "cell_type": "code",
   "execution_count": 9,
   "metadata": {},
   "outputs": [],
   "source": [
    "class squares:\n",
    "    def __init__(self):\n",
    "        self.x = np.random.randint(0, SIZE)\n",
    "        self.y = np.random.randint(0, SIZE)\n",
    "        \n",
    "    def __str__(self):\n",
    "        return f\"{self.x}, {self.y}\"\n",
    "    \n",
    "    def __sub__(self, other):\n",
    "        return (self.x-other.x, self.y-other.y)\n",
    "    \n",
    "    \n",
    "    def action(self,choice):\n",
    "        if(choice == 0):\n",
    "            self.move(x=1,y=1)\n",
    "        elif choice == 1:\n",
    "            self.move(x=-1, y=-1)\n",
    "        elif choice == 2:\n",
    "            self.move(x=-1, y=1)\n",
    "        elif choice == 3:\n",
    "            self.move(x=1, y=-1)\n",
    "            \n",
    "            \n",
    "    def move(self, x=False, y=False):\n",
    "\n",
    "# If no value for x, move randomly\n",
    "        if not x:\n",
    "            self.x += np.random.randint(-1, 2)\n",
    "        else:\n",
    "            self.x += x\n",
    "\n",
    "    # If no value for y, move randomly\n",
    "        if not y:\n",
    "            self.y += np.random.randint(-1, 2)\n",
    "        else:\n",
    "            self.y += y\n",
    "\n",
    "\n",
    "    # If we are out of bounds, fix!\n",
    "        if self.x < 0:\n",
    "            self.x = 0\n",
    "        elif self.x > SIZE-1:\n",
    "            self.x = SIZE-1\n",
    "        if self.y < 0:\n",
    "            self.y = 0\n",
    "        elif self.y > SIZE-1:\n",
    "            self.y = SIZE-1"
   ]
  },
  {
   "cell_type": "code",
   "execution_count": 10,
   "metadata": {},
   "outputs": [
    {
     "name": "stdout",
     "output_type": "stream",
     "text": [
      "11, 2\n",
      "12, 16\n",
      "(-1, -14)\n",
      "(-2, -14)\n",
      "(-3, -13)\n"
     ]
    }
   ],
   "source": [
    "player = squares()\n",
    "food = squares()\n",
    "\n",
    "print(player)\n",
    "print(food)\n",
    "print(player-food)\n",
    "player.move()\n",
    "print(player-food)\n",
    "player.action(2)\n",
    "print(player-food)"
   ]
  },
  {
   "cell_type": "markdown",
   "metadata": {},
   "source": [
    "### Q-Table"
   ]
  },
  {
   "cell_type": "code",
   "execution_count": 11,
   "metadata": {},
   "outputs": [],
   "source": [
    "#If we have to load a q_table then this code isn't necessary\n",
    "start_q_table = None\n",
    "if start_q_table is None:\n",
    "    # initialize the q-table#\n",
    "    q_table = {}\n",
    "    for p in range(-SIZE+1, SIZE):\n",
    "        for q in range(-SIZE+1, SIZE):\n",
    "            for r in range(-SIZE+1, SIZE):\n",
    "                    for s in range(-SIZE+1, SIZE):\n",
    "                        q_table[((p,q), (r,s))] = [np.random.uniform(-5, 0) for i in range(4)]\n",
    "else:\n",
    "    with open(start_q_table, \"rb\") as f:\n",
    "        q_table = pickle.load(f)\n",
    "        "
   ]
  },
  {
   "cell_type": "markdown",
   "metadata": {},
   "source": [
    "1. For every position starting from (-19,-19),(-19,-19) to (19,19),(19,19) we will have q_values ranging from -5 to 0 depicting actions"
   ]
  },
  {
   "cell_type": "markdown",
   "metadata": {},
   "source": [
    "#### If we have a Q_Table already saved we can load it using"
   ]
  },
  {
   "cell_type": "markdown",
   "metadata": {},
   "source": [
    "1. Used with above code"
   ]
  },
  {
   "cell_type": "markdown",
   "metadata": {},
   "source": [
    "else:\n",
    "    with open(start_q_table, \"rb\") as f:\n",
    "        q_table = pickle.load(f)"
   ]
  },
  {
   "cell_type": "markdown",
   "metadata": {},
   "source": [
    "### Checking values in Q_Table"
   ]
  },
  {
   "cell_type": "code",
   "execution_count": 12,
   "metadata": {
    "scrolled": true
   },
   "outputs": [
    {
     "name": "stdout",
     "output_type": "stream",
     "text": [
      "[-2.620654925203308, -2.3482495799622685, -0.17494630109122866, -3.9320902918632017]\n"
     ]
    }
   ],
   "source": [
    "print(q_table[((-19,-19),(-19,-19))])"
   ]
  },
  {
   "cell_type": "code",
   "execution_count": 13,
   "metadata": {},
   "outputs": [
    {
     "name": "stdout",
     "output_type": "stream",
     "text": [
      "[-2.3757055755647905, -4.401390206166563, -3.2147299840474752, -4.821056138521903]\n"
     ]
    }
   ],
   "source": [
    "print(q_table[((19,19),(19,19))])"
   ]
  },
  {
   "cell_type": "markdown",
   "metadata": {},
   "source": [
    "### Dont run these Cells\n",
    "Only for understanding the code"
   ]
  },
  {
   "cell_type": "markdown",
   "metadata": {},
   "source": [
    "1. Step is to create a list which will store the records for every episode\n",
    "\n",
    "rewards_per_episode = []\n",
    "#Creating 3 squares for food player and enemy(will be created in every episode)\n",
    "for episode in range(EPISODES):\n",
    "    player = squares()\n",
    "    food = squares()\n",
    "    enemy = squares()\n"
   ]
  },
  {
   "cell_type": "markdown",
   "metadata": {},
   "source": [
    "2. Printing 1000th Episode and the Epsilon(Decay)\n",
    "\n",
    "if episode % SHOW_EVERY == 0:\n",
    "    print(f\"on episode: {episode}, epsilon is {epsilon}\")\n",
    "    show = True\n",
    "else:\n",
    "    show = False"
   ]
  },
  {
   "cell_type": "markdown",
   "metadata": {},
   "source": [
    "3. Finding reward before appending it.\n",
    "rewards_per_episode=0"
   ]
  },
  {
   "cell_type": "markdown",
   "metadata": {},
   "source": [
    "4. Finding the position and moving the player according to the epsilon value\n",
    "\n",
    "for i in range(200):\n",
    "    obs = (player-food, player-enemy)\n",
    "####print(obs)\n",
    "    if np.random.random() > epsilon:\n",
    "    \n",
    "####ACTION\n",
    "        action = np.argmax(q_table[obs])\n",
    "    else:\n",
    "        action = np.random.randint(0, 4)\n",
    "        \n",
    "####Perform the Action\n",
    "    player.action(action)\n",
    "\n"
   ]
  },
  {
   "cell_type": "markdown",
   "metadata": {},
   "source": [
    "5. Describing the Rewards mechanism\n",
    "\n",
    "###IF players position == enemies position both x and Y co-ordinate will give a negative reward\n",
    "if player.x == enemy.x and player.y == enemy.y:\n",
    "    reward = -ENEMY_PENALTY\n",
    "    \n",
    "###IF players position == foods position +ve reward\n",
    "elif player.x == food.x and player.y == food.y:\n",
    "    reward = FOOD_REWARD\n",
    "    \n",
    "###Else negative reward.\n",
    "else:\n",
    "    reward = -MOVE_PENALTY\n"
   ]
  },
  {
   "cell_type": "markdown",
   "metadata": {},
   "source": [
    "6. Now we have our move rewards set we can move on to the Q_Table\n",
    "\n",
    "###New Observative position\n",
    "new_obs = (player - food, player - enemy)  \n",
    "\n",
    "###max future Q_Value\n",
    "max_future_q = np.max(q_table[new_obs])\n",
    "\n",
    "###Current Q_Value\n",
    "current_q = q_table[obs][action]\n",
    "\n",
    "###Now if the reward == food reward which means max reward will update the Q_Table otherwise will use the Q_Function to find the new Q_Value\n",
    "\n",
    "if reward == FOOD_REWARD:\n",
    "    new_q = FOOD_REWARD\n",
    "else:\n",
    "    new_q = (1 - LEARNING_RATE) * current_q + LEARNING_RATE * (reward + DISCOUNT * max_future_q)"
   ]
  },
  {
   "cell_type": "markdown",
   "metadata": {},
   "source": [
    "7. We Don't want to see it for each episode as it would be hectic for 25000 episodes so we will see it only if it is in show:\n",
    "\n",
    "\n",
    "if show:\n",
    "\n",
    "\n",
    "###starts a rbg of 20,20,3 size\n",
    "env = np.zeros((SIZE, SIZE, 3), dtype=np.uint8) \n",
    "\n",
    "###Sets the food, player and enemy location according to their respective colours\n",
    "env[food.x][food.y] = d[FOOD_N]  #green color\n",
    "env[player.x][player.y] = d[PLAYER_N]  #blue\n",
    "env[enemy.x][enemy.y] = d[ENEMY_N]  #red\n",
    "\n",
    "\n",
    "###Reading the image as RGB as the default is BGR\n",
    "img = Image.fromarray(env, 'RGB')  \n",
    "\n",
    "\n",
    "###Resizing the frame for better visualization\n",
    "img = img.resize((300, 300))\n",
    "cv2.imshow(\"image\", np.array(img))\n",
    "\n",
    "\n",
    "###Code to quit. We used oxFF == ord('q') to convert the hexa number to 8 bit integer\n",
    "if reward == FOOD_REWARD or reward == -ENEMY_PENALTY:   reasons or not.\n",
    "    if cv2.waitKey(500) & 0xFF == ord('q'):\n",
    "        break\n",
    "else:\n",
    "    if cv2.waitKey(1) & 0xFF == ord('q'):\n",
    "        break\n",
    "\n"
   ]
  },
  {
   "cell_type": "markdown",
   "metadata": {},
   "source": [
    "8. Finally appending the reward and printing it and decaying the epsilon value\n",
    "\n",
    "episode_reward += reward\n",
    "if reward == FOOD_REWARD or reward == -ENEMY_PENALTY:\n",
    "    break\n",
    "\n",
    "#print(episode_reward)\n",
    "rewards_per_episode.append(episode_reward)\n",
    "epsilon *= epsilon_decay"
   ]
  },
  {
   "cell_type": "markdown",
   "metadata": {},
   "source": [
    "## Don't run the above Cells\n"
   ]
  },
  {
   "cell_type": "code",
   "execution_count": null,
   "metadata": {},
   "outputs": [],
   "source": []
  },
  {
   "cell_type": "code",
   "execution_count": null,
   "metadata": {},
   "outputs": [],
   "source": []
  },
  {
   "cell_type": "markdown",
   "metadata": {},
   "source": [
    "## Executable Cells Below"
   ]
  },
  {
   "cell_type": "markdown",
   "metadata": {},
   "source": [
    "### Iterating over all episodes"
   ]
  },
  {
   "cell_type": "code",
   "execution_count": 14,
   "metadata": {
    "scrolled": true
   },
   "outputs": [
    {
     "name": "stdout",
     "output_type": "stream",
     "text": [
      "on episode: 0, epsilon is 0.5\n",
      "on episode: 1000, epsilon is 0.4524164467792781\n",
      "on episode: 2000, epsilon is 0.40936128263277455\n",
      "on episode: 3000, epsilon is 0.370403553875455\n",
      "on episode: 4000, epsilon is 0.33515331943750076\n",
      "on episode: 5000, epsilon is 0.3032577478123883\n",
      "on episode: 6000, epsilon is 0.27439758544713416\n",
      "on episode: 7000, epsilon is 0.2482839612256115\n",
      "on episode: 8000, epsilon is 0.22465549505995064\n",
      "on episode: 9000, epsilon is 0.2032756816489254\n",
      "on episode: 10000, epsilon is 0.1839305232164846\n",
      "on episode: 11000, epsilon is 0.16642638753571107\n",
      "on episode: 12000, epsilon is 0.15058806979843486\n",
      "on episode: 13000, epsilon is 0.13625703893111527\n",
      "on episode: 14000, epsilon is 0.12328985080376159\n",
      "on episode: 15000, epsilon is 0.1115567124491704\n",
      "on episode: 16000, epsilon is 0.10094018292126271\n",
      "on episode: 17000, epsilon is 0.09133399778897615\n",
      "on episode: 18000, epsilon is 0.08264200549966999\n",
      "on episode: 19000, epsilon is 0.07477720496574845\n",
      "on episode: 20000, epsilon is 0.06766087474137944\n",
      "on episode: 21000, epsilon is 0.06122178507294544\n",
      "on episode: 22000, epsilon is 0.05539548493637325\n",
      "on episode: 23000, epsilon is 0.05012365692505809\n",
      "on episode: 24000, epsilon is 0.04535353353123669\n"
     ]
    }
   ],
   "source": [
    "rewards_per_episode = []\n",
    "\n",
    "for episode in range(EPISODES):\n",
    "    player = squares()\n",
    "    food = squares()\n",
    "    enemy = squares()\n",
    "    \n",
    "    if episode % SHOW_EVERY == 0:\n",
    "        print(f\"on episode: {episode}, epsilon is {epsilon}\")\n",
    "        show = True\n",
    "    else:\n",
    "        show = False\n",
    "        \n",
    "    episode_reward = 0\n",
    "    for i in range(200):\n",
    "        obs = (player-food, player-enemy)\n",
    "        #print(obs)\n",
    "        if np.random.random() > epsilon:\n",
    "            # GET THE ACTION\n",
    "            action = np.argmax(q_table[obs])\n",
    "        else:\n",
    "            action = np.random.randint(0, 4)\n",
    "        # Take the action!\n",
    "        player.action(action)\n",
    "\n",
    "\n",
    "        if player.x == enemy.x and player.y == enemy.y:\n",
    "            reward = -ENEMY_PENALTY\n",
    "        elif player.x == food.x and player.y == food.y:\n",
    "            reward = FOOD_REWARD\n",
    "        else:\n",
    "            reward = -MOVE_PENALTY\n",
    "            \n",
    "\n",
    "        # first we need to obs immediately after the move.\n",
    "        new_obs = (player-food, player-enemy)\n",
    "        max_future_q = np.max(q_table[new_obs])\n",
    "        current_q = q_table[obs][action]\n",
    "        \n",
    "        \n",
    "\n",
    "        if reward == FOOD_REWARD:\n",
    "            new_q = FOOD_REWARD\n",
    "        else:\n",
    "            new_q = (1 - LEARNING_RATE) * current_q + LEARNING_RATE * (reward + DISCOUNT * max_future_q)\n",
    "        q_table[obs][action] = new_q\n",
    "\n",
    "        \n",
    "        \n",
    "        if show:\n",
    "            env = np.zeros((SIZE, SIZE, 3), dtype=np.uint8)  # starts an rbg of SIZExSIZEx3\n",
    "            \n",
    "            env[food.x][food.y] = d[FOOD]  # sets the food location tile to green color\n",
    "            \n",
    "            env[player.x][player.y] = d[PLAYER]  # sets the player tile to blue\n",
    "            \n",
    "            env[enemy.x][enemy.y] = d[ENEMY]  # sets the enemy location to red\n",
    "            \n",
    "            img = Image.fromarray(env, 'RGB')  # reading to rgb. Apparently. Even tho color definitions are bgr\n",
    "            \n",
    "            img = img.resize((500, 500))  # resizing so we can see our agent.\n",
    "            \n",
    "            cv2.imshow(\"image\", np.array(img))  # Display\n",
    "            \n",
    "            if reward == FOOD_REWARD or reward == -ENEMY_PENALTY:  \n",
    "                if cv2.waitKey(500) & 0xFF == ord('q'): #To close\n",
    "                    break\n",
    "            else:\n",
    "                if cv2.waitKey(1) & 0xFF == ord('q'): \n",
    "                    break\n",
    "\n",
    "        episode_reward += reward\n",
    "        if reward == FOOD_REWARD or reward == -ENEMY_PENALTY:\n",
    "            break\n",
    "\n",
    "    #print(episode_reward)\n",
    "    rewards_per_episode.append(episode_reward)\n",
    "    epsilon *= epsilon_decay"
   ]
  },
  {
   "cell_type": "code",
   "execution_count": 15,
   "metadata": {},
   "outputs": [
    {
     "data": {
      "image/png": "[encoded data removed]",
      "text/plain": [
       "<Figure size 1296x576 with 1 Axes>"
      ]
     },
     "metadata": {},
     "output_type": "display_data"
    }
   ],
   "source": [
    "moving_avg = np.convolve(rewards_per_episode, np.ones((SHOW_EVERY,))/SHOW_EVERY, mode='valid')\n",
    "plt.figure(figsize=(18,8))\n",
    "plt.plot([i for i in range(len(moving_avg))], moving_avg)\n",
    "plt.ylabel(f\"Reward {SHOW_EVERY}\")\n",
    "plt.xlabel(\"episode\")\n",
    "plt.show()\n",
    "\n",
    "with open(f\"qtable\", \"wb\") as f:\n",
    "    pickle.dump(q_table, f)"
   ]
  },
  {
   "cell_type": "code",
   "execution_count": null,
   "metadata": {},
   "outputs": [],
   "source": []
  }
 ],
 "metadata": {
  "kernelspec": {
   "display_name": "Python 3",
   "language": "python",
   "name": "python3"
  },
  "language_info": {
   "codemirror_mode": {
    "name": "ipython",
    "version": 3
   },
   "file_extension": ".py",
   "mimetype": "text/x-python",
   "name": "python",
   "nbconvert_exporter": "python",
   "pygments_lexer": "ipython3",
   "version": "3.8.5"
  }
 },
 "nbformat": 4,
 "nbformat_minor": 4
}
