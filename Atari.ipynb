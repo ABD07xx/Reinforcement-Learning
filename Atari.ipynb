 {
   "cell_type": "markdown",
   "metadata": {},
   "source": [
    "# Atari Game"
   ]
  },
  {
   "cell_type": "markdown",
   "metadata": {},
   "source": [
    "#### Important Libraries\n",
    "#### Change it to code format and install them\n",
    "* !pip install gym[Atari]\n",
    "* !pip install gym[accept-rom-license]"
   ]
  },
  {
   "cell_type": "markdown",
   "metadata": {},
   "source": [
    "## Key Mapping \n",
    "* NOOP : 0\n",
    "* FIRE : 1\n",
    "* RIGHT: 2\n",
    "* LEFT : 3\n",
    "* RIGHTFIRE:4\n",
    "* LEFTFIRE:5"
   ]
  },
  {
   "cell_type": "code",
   "execution_count": null,
   "metadata": {},
   "outputs": [],
   "source": [
    "import gym\n",
    "import pygame\n",
    "from gym.utils.play import play\n",
    "\n",
    "mapping = {(pygame.K_LEFT,): 3,\n",
    "           (pygame.K_RIGHT,):2,\n",
    "           (pygame.K_UP,):1,\n",
    "           (pygame.K_z,):4,\n",
    "           (pygame.K_x,):5,\n",
    "           (pygame.K_c,):0,}\n",
    "\n",
    "#Creating an Environment\n",
    "env=gym.make('ALE/AirRaid-v5',render_mode='rgb_array')\n",
    "\n",
    "# Play within the environment using the policy function\n",
    "play(env, keys_to_action=mapping)\n",
    "\n",
    "# Close the environment\n",
    "env.close()\n"
   ]
  },
  {
   "attachments": {
    "atari.jpg": {
     "image/jpeg": "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"
    }
   },
   "cell_type": "markdown",
   "metadata": {},
   "source": [
    "![atari.jpg](attachment:atari.jpg)"
   ]
  },
  {
   "cell_type": "code",
   "execution_count": null,
   "metadata": {},
   "outputs": [],
   "source": []
  },
  {
   "cell_type": "code",
   "execution_count": null,
   "metadata": {},
   "outputs": [],
   "source": []
  }
 ],
 "metadata": {
  "kernelspec": {
   "display_name": "Python 3",
   "language": "python",
   "name": "python3"
  },
  "language_info": {
   "codemirror_mode": {
    "name": "ipython",
    "version": 3
   },
   "file_extension": ".py",
   "mimetype": "text/x-python",
   "name": "python",
   "nbconvert_exporter": "python",
   "pygments_lexer": "ipython3",
   "version": "3.8.5"
  }
 },
 "nbformat": 4,
 "nbformat_minor": 4
}
